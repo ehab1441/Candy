{
 "cells": [
  {
   "cell_type": "markdown",
   "id": "c49d2926",
   "metadata": {},
   "source": [
    "# Hey, there.... "
   ]
  },
  {
   "cell_type": "code",
   "execution_count": 1,
   "id": "28e57927",
   "metadata": {},
   "outputs": [],
   "source": [
    "#I'm going to try and explain a little bit of data cleaning and visualisation, hope it helps!"
   ]
  },
  {
   "cell_type": "markdown",
   "id": "dc4fa7ad",
   "metadata": {},
   "source": [
    "# Remove Warnings"
   ]
  },
  {
   "cell_type": "code",
   "execution_count": 2,
   "id": "dc843fc0",
   "metadata": {},
   "outputs": [],
   "source": [
    "#use this to get rid of any warnings you may face.\n",
    "\n",
    "import warnings\n",
    "warnings.simplefilter(\"ignore\")"
   ]
  },
  {
   "cell_type": "markdown",
   "id": "e7e00820",
   "metadata": {},
   "source": [
    "# Libraries"
   ]
  },
  {
   "cell_type": "code",
   "execution_count": 3,
   "id": "5d15a0ce",
   "metadata": {},
   "outputs": [],
   "source": [
    "#importing the libraries that we're gonna use\n",
    "#ps:uou can download a libirary simply by runing this command in your cmd portal---> pip install (name of the library)\n",
    "\n",
    "import pandas as pd\n",
    "import numpy as np\n",
    "import matplotlib.pyplot as plt\n",
    "import seaborn as sns\n",
    "from wordcloud import WordCloud, STOPWORDS, ImageColorGenerator\n",
    "from fuzzywuzzy import fuzz, process"
   ]
  },
  {
   "cell_type": "markdown",
   "id": "44321b81",
   "metadata": {},
   "source": [
    "# Figure size"
   ]
  },
  {
   "cell_type": "code",
   "execution_count": 4,
   "id": "634e64d8",
   "metadata": {},
   "outputs": [],
   "source": [
    "#we use this to control the size of the figure in the visualisation part, you can control it the way you like.\n",
    "from matplotlib import rcParams\n",
    "rcParams['figure.figsize'] = (6,6)"
   ]
  },
  {
   "cell_type": "markdown",
   "id": "5f462236",
   "metadata": {},
   "source": [
    "# Extract data & view it "
   ]
  },
  {
   "cell_type": "code",
   "execution_count": 5,
   "id": "cd5c6d6b",
   "metadata": {},
   "outputs": [],
   "source": [
    "#I'm gonna use Candy data which is from a candy survey, fell free to use any data set you like.\n",
    "#ps:just remember to use the right form of your file such as here we use \".xlsx\" cuase it's an excel file.\n",
    "\n",
    "candy = pd.read_excel('candy.xlsx')"
   ]
  },
  {
   "cell_type": "code",
   "execution_count": 6,
   "id": "561974a2",
   "metadata": {},
   "outputs": [
    {
     "data": {
      "text/plain": [
       "Index(['Internal ID', 'Q1: GOING OUT?', 'Q2: GENDER', 'Q3: AGE', 'Q4: COUNTRY',\n",
       "       'Q5: STATE, PROVINCE, COUNTY, ETC', 'Q6 | 100 Grand Bar',\n",
       "       'Q6 | Anonymous brown globs that come in black and orange wrappers\\t(a.k.a. Mary Janes)',\n",
       "       'Q6 | Any full-sized candy bar', 'Q6 | Black Jacks',\n",
       "       ...\n",
       "       'Q8: DESPAIR OTHER', 'Q9: OTHER COMMENTS', 'Q10: DRESS', 'Unnamed: 113',\n",
       "       'Q11: DAY', 'Q12: MEDIA [Daily Dish]', 'Q12: MEDIA [Science]',\n",
       "       'Q12: MEDIA [ESPN]', 'Q12: MEDIA [Yahoo]', 'Click Coordinates (x, y)'],\n",
       "      dtype='object', length=120)"
      ]
     },
     "execution_count": 6,
     "metadata": {},
     "output_type": "execute_result"
    }
   ],
   "source": [
    "#viewing the coulmns names.\n",
    "\n",
    "candy.columns"
   ]
  },
  {
   "cell_type": "code",
   "execution_count": 7,
   "id": "53bad6d9",
   "metadata": {},
   "outputs": [
    {
     "data": {
      "text/html": [
       "<div>\n",
       "<style scoped>\n",
       "    .dataframe tbody tr th:only-of-type {\n",
       "        vertical-align: middle;\n",
       "    }\n",
       "\n",
       "    .dataframe tbody tr th {\n",
       "        vertical-align: top;\n",
       "    }\n",
       "\n",
       "    .dataframe thead th {\n",
       "        text-align: right;\n",
       "    }\n",
       "</style>\n",
       "<table border=\"1\" class=\"dataframe\">\n",
       "  <thead>\n",
       "    <tr style=\"text-align: right;\">\n",
       "      <th></th>\n",
       "      <th>Internal ID</th>\n",
       "      <th>Q1: GOING OUT?</th>\n",
       "      <th>Q2: GENDER</th>\n",
       "      <th>Q3: AGE</th>\n",
       "      <th>Q4: COUNTRY</th>\n",
       "      <th>Q5: STATE, PROVINCE, COUNTY, ETC</th>\n",
       "      <th>Q6 | 100 Grand Bar</th>\n",
       "      <th>Q6 | Anonymous brown globs that come in black and orange wrappers\\t(a.k.a. Mary Janes)</th>\n",
       "      <th>Q6 | Any full-sized candy bar</th>\n",
       "      <th>Q6 | Black Jacks</th>\n",
       "      <th>...</th>\n",
       "      <th>Q8: DESPAIR OTHER</th>\n",
       "      <th>Q9: OTHER COMMENTS</th>\n",
       "      <th>Q10: DRESS</th>\n",
       "      <th>Unnamed: 113</th>\n",
       "      <th>Q11: DAY</th>\n",
       "      <th>Q12: MEDIA [Daily Dish]</th>\n",
       "      <th>Q12: MEDIA [Science]</th>\n",
       "      <th>Q12: MEDIA [ESPN]</th>\n",
       "      <th>Q12: MEDIA [Yahoo]</th>\n",
       "      <th>Click Coordinates (x, y)</th>\n",
       "    </tr>\n",
       "  </thead>\n",
       "  <tbody>\n",
       "    <tr>\n",
       "      <th>0</th>\n",
       "      <td>90258773</td>\n",
       "      <td>NaN</td>\n",
       "      <td>NaN</td>\n",
       "      <td>NaN</td>\n",
       "      <td>NaN</td>\n",
       "      <td>NaN</td>\n",
       "      <td>NaN</td>\n",
       "      <td>NaN</td>\n",
       "      <td>NaN</td>\n",
       "      <td>NaN</td>\n",
       "      <td>...</td>\n",
       "      <td>NaN</td>\n",
       "      <td>NaN</td>\n",
       "      <td>NaN</td>\n",
       "      <td>NaN</td>\n",
       "      <td>NaN</td>\n",
       "      <td>NaN</td>\n",
       "      <td>NaN</td>\n",
       "      <td>NaN</td>\n",
       "      <td>NaN</td>\n",
       "      <td>NaN</td>\n",
       "    </tr>\n",
       "    <tr>\n",
       "      <th>1</th>\n",
       "      <td>90272821</td>\n",
       "      <td>No</td>\n",
       "      <td>Male</td>\n",
       "      <td>44</td>\n",
       "      <td>USA</td>\n",
       "      <td>NM</td>\n",
       "      <td>MEH</td>\n",
       "      <td>DESPAIR</td>\n",
       "      <td>JOY</td>\n",
       "      <td>MEH</td>\n",
       "      <td>...</td>\n",
       "      <td>NaN</td>\n",
       "      <td>Bottom line is Twix is really the only candy w...</td>\n",
       "      <td>White and gold</td>\n",
       "      <td>NaN</td>\n",
       "      <td>Sunday</td>\n",
       "      <td>NaN</td>\n",
       "      <td>1.0</td>\n",
       "      <td>NaN</td>\n",
       "      <td>NaN</td>\n",
       "      <td>(84, 25)</td>\n",
       "    </tr>\n",
       "    <tr>\n",
       "      <th>2</th>\n",
       "      <td>90272829</td>\n",
       "      <td>NaN</td>\n",
       "      <td>Male</td>\n",
       "      <td>49</td>\n",
       "      <td>USA</td>\n",
       "      <td>Virginia</td>\n",
       "      <td>NaN</td>\n",
       "      <td>NaN</td>\n",
       "      <td>NaN</td>\n",
       "      <td>NaN</td>\n",
       "      <td>...</td>\n",
       "      <td>NaN</td>\n",
       "      <td>NaN</td>\n",
       "      <td>NaN</td>\n",
       "      <td>NaN</td>\n",
       "      <td>NaN</td>\n",
       "      <td>NaN</td>\n",
       "      <td>NaN</td>\n",
       "      <td>NaN</td>\n",
       "      <td>NaN</td>\n",
       "      <td>NaN</td>\n",
       "    </tr>\n",
       "    <tr>\n",
       "      <th>3</th>\n",
       "      <td>90272840</td>\n",
       "      <td>No</td>\n",
       "      <td>Male</td>\n",
       "      <td>40</td>\n",
       "      <td>us</td>\n",
       "      <td>or</td>\n",
       "      <td>MEH</td>\n",
       "      <td>DESPAIR</td>\n",
       "      <td>JOY</td>\n",
       "      <td>MEH</td>\n",
       "      <td>...</td>\n",
       "      <td>NaN</td>\n",
       "      <td>Raisins can go to hell</td>\n",
       "      <td>White and gold</td>\n",
       "      <td>NaN</td>\n",
       "      <td>Sunday</td>\n",
       "      <td>NaN</td>\n",
       "      <td>1.0</td>\n",
       "      <td>NaN</td>\n",
       "      <td>NaN</td>\n",
       "      <td>(75, 23)</td>\n",
       "    </tr>\n",
       "    <tr>\n",
       "      <th>4</th>\n",
       "      <td>90272841</td>\n",
       "      <td>No</td>\n",
       "      <td>Male</td>\n",
       "      <td>23</td>\n",
       "      <td>usa</td>\n",
       "      <td>exton pa</td>\n",
       "      <td>JOY</td>\n",
       "      <td>DESPAIR</td>\n",
       "      <td>JOY</td>\n",
       "      <td>DESPAIR</td>\n",
       "      <td>...</td>\n",
       "      <td>NaN</td>\n",
       "      <td>NaN</td>\n",
       "      <td>White and gold</td>\n",
       "      <td>NaN</td>\n",
       "      <td>Friday</td>\n",
       "      <td>NaN</td>\n",
       "      <td>1.0</td>\n",
       "      <td>NaN</td>\n",
       "      <td>NaN</td>\n",
       "      <td>(70, 10)</td>\n",
       "    </tr>\n",
       "    <tr>\n",
       "      <th>...</th>\n",
       "      <td>...</td>\n",
       "      <td>...</td>\n",
       "      <td>...</td>\n",
       "      <td>...</td>\n",
       "      <td>...</td>\n",
       "      <td>...</td>\n",
       "      <td>...</td>\n",
       "      <td>...</td>\n",
       "      <td>...</td>\n",
       "      <td>...</td>\n",
       "      <td>...</td>\n",
       "      <td>...</td>\n",
       "      <td>...</td>\n",
       "      <td>...</td>\n",
       "      <td>...</td>\n",
       "      <td>...</td>\n",
       "      <td>...</td>\n",
       "      <td>...</td>\n",
       "      <td>...</td>\n",
       "      <td>...</td>\n",
       "      <td>...</td>\n",
       "    </tr>\n",
       "    <tr>\n",
       "      <th>2455</th>\n",
       "      <td>90314359</td>\n",
       "      <td>No</td>\n",
       "      <td>Male</td>\n",
       "      <td>24</td>\n",
       "      <td>USA</td>\n",
       "      <td>MD</td>\n",
       "      <td>JOY</td>\n",
       "      <td>DESPAIR</td>\n",
       "      <td>MEH</td>\n",
       "      <td>DESPAIR</td>\n",
       "      <td>...</td>\n",
       "      <td>Fruit Stripe Gum</td>\n",
       "      <td>NaN</td>\n",
       "      <td>White and gold</td>\n",
       "      <td>NaN</td>\n",
       "      <td>Friday</td>\n",
       "      <td>NaN</td>\n",
       "      <td>NaN</td>\n",
       "      <td>NaN</td>\n",
       "      <td>NaN</td>\n",
       "      <td>NaN</td>\n",
       "    </tr>\n",
       "    <tr>\n",
       "      <th>2456</th>\n",
       "      <td>90314580</td>\n",
       "      <td>No</td>\n",
       "      <td>Female</td>\n",
       "      <td>33</td>\n",
       "      <td>USA</td>\n",
       "      <td>New York</td>\n",
       "      <td>MEH</td>\n",
       "      <td>DESPAIR</td>\n",
       "      <td>JOY</td>\n",
       "      <td>NaN</td>\n",
       "      <td>...</td>\n",
       "      <td>Capers</td>\n",
       "      <td>NaN</td>\n",
       "      <td>Blue and black</td>\n",
       "      <td>NaN</td>\n",
       "      <td>Friday</td>\n",
       "      <td>NaN</td>\n",
       "      <td>1.0</td>\n",
       "      <td>NaN</td>\n",
       "      <td>NaN</td>\n",
       "      <td>(70, 26)</td>\n",
       "    </tr>\n",
       "    <tr>\n",
       "      <th>2457</th>\n",
       "      <td>90314634</td>\n",
       "      <td>No</td>\n",
       "      <td>Female</td>\n",
       "      <td>26</td>\n",
       "      <td>USA</td>\n",
       "      <td>Tennessee</td>\n",
       "      <td>MEH</td>\n",
       "      <td>DESPAIR</td>\n",
       "      <td>JOY</td>\n",
       "      <td>DESPAIR</td>\n",
       "      <td>...</td>\n",
       "      <td>NaN</td>\n",
       "      <td>NaN</td>\n",
       "      <td>Blue and black</td>\n",
       "      <td>NaN</td>\n",
       "      <td>Friday</td>\n",
       "      <td>NaN</td>\n",
       "      <td>1.0</td>\n",
       "      <td>NaN</td>\n",
       "      <td>NaN</td>\n",
       "      <td>(67, 35)</td>\n",
       "    </tr>\n",
       "    <tr>\n",
       "      <th>2458</th>\n",
       "      <td>90314658</td>\n",
       "      <td>No</td>\n",
       "      <td>Male</td>\n",
       "      <td>58</td>\n",
       "      <td>Usa</td>\n",
       "      <td>North Carolina</td>\n",
       "      <td>NaN</td>\n",
       "      <td>NaN</td>\n",
       "      <td>NaN</td>\n",
       "      <td>NaN</td>\n",
       "      <td>...</td>\n",
       "      <td>NaN</td>\n",
       "      <td>NaN</td>\n",
       "      <td>NaN</td>\n",
       "      <td>NaN</td>\n",
       "      <td>NaN</td>\n",
       "      <td>NaN</td>\n",
       "      <td>NaN</td>\n",
       "      <td>NaN</td>\n",
       "      <td>NaN</td>\n",
       "      <td>NaN</td>\n",
       "    </tr>\n",
       "    <tr>\n",
       "      <th>2459</th>\n",
       "      <td>90314802</td>\n",
       "      <td>No</td>\n",
       "      <td>Female</td>\n",
       "      <td>66</td>\n",
       "      <td>usa</td>\n",
       "      <td>Pennsylvania</td>\n",
       "      <td>DESPAIR</td>\n",
       "      <td>DESPAIR</td>\n",
       "      <td>JOY</td>\n",
       "      <td>DESPAIR</td>\n",
       "      <td>...</td>\n",
       "      <td>NaN</td>\n",
       "      <td>You hit all my chocolate highlights, and broug...</td>\n",
       "      <td>White and gold</td>\n",
       "      <td>NaN</td>\n",
       "      <td>Sunday</td>\n",
       "      <td>1.0</td>\n",
       "      <td>NaN</td>\n",
       "      <td>NaN</td>\n",
       "      <td>NaN</td>\n",
       "      <td>(19, 26)</td>\n",
       "    </tr>\n",
       "  </tbody>\n",
       "</table>\n",
       "<p>2460 rows × 120 columns</p>\n",
       "</div>"
      ],
      "text/plain": [
       "      Internal ID Q1: GOING OUT? Q2: GENDER Q3: AGE Q4: COUNTRY  \\\n",
       "0        90258773            NaN        NaN     NaN         NaN   \n",
       "1        90272821             No       Male      44        USA    \n",
       "2        90272829            NaN       Male      49         USA   \n",
       "3        90272840             No       Male      40          us   \n",
       "4        90272841             No       Male      23         usa   \n",
       "...           ...            ...        ...     ...         ...   \n",
       "2455     90314359             No       Male      24         USA   \n",
       "2456     90314580             No     Female      33         USA   \n",
       "2457     90314634             No     Female      26        USA    \n",
       "2458     90314658             No       Male      58         Usa   \n",
       "2459     90314802             No     Female      66         usa   \n",
       "\n",
       "     Q5: STATE, PROVINCE, COUNTY, ETC Q6 | 100 Grand Bar  \\\n",
       "0                                 NaN                NaN   \n",
       "1                                  NM                MEH   \n",
       "2                            Virginia                NaN   \n",
       "3                                  or                MEH   \n",
       "4                            exton pa                JOY   \n",
       "...                               ...                ...   \n",
       "2455                               MD                JOY   \n",
       "2456                         New York                MEH   \n",
       "2457                        Tennessee                MEH   \n",
       "2458                   North Carolina                NaN   \n",
       "2459                     Pennsylvania            DESPAIR   \n",
       "\n",
       "     Q6 | Anonymous brown globs that come in black and orange wrappers\\t(a.k.a. Mary Janes)  \\\n",
       "0                                                   NaN                                       \n",
       "1                                               DESPAIR                                       \n",
       "2                                                   NaN                                       \n",
       "3                                               DESPAIR                                       \n",
       "4                                               DESPAIR                                       \n",
       "...                                                 ...                                       \n",
       "2455                                            DESPAIR                                       \n",
       "2456                                            DESPAIR                                       \n",
       "2457                                            DESPAIR                                       \n",
       "2458                                                NaN                                       \n",
       "2459                                            DESPAIR                                       \n",
       "\n",
       "     Q6 | Any full-sized candy bar Q6 | Black Jacks  ... Q8: DESPAIR OTHER  \\\n",
       "0                              NaN              NaN  ...               NaN   \n",
       "1                              JOY              MEH  ...               NaN   \n",
       "2                              NaN              NaN  ...               NaN   \n",
       "3                              JOY              MEH  ...               NaN   \n",
       "4                              JOY          DESPAIR  ...               NaN   \n",
       "...                            ...              ...  ...               ...   \n",
       "2455                           MEH          DESPAIR  ...  Fruit Stripe Gum   \n",
       "2456                           JOY              NaN  ...            Capers   \n",
       "2457                           JOY          DESPAIR  ...               NaN   \n",
       "2458                           NaN              NaN  ...               NaN   \n",
       "2459                           JOY          DESPAIR  ...               NaN   \n",
       "\n",
       "                                     Q9: OTHER COMMENTS      Q10: DRESS  \\\n",
       "0                                                   NaN             NaN   \n",
       "1     Bottom line is Twix is really the only candy w...  White and gold   \n",
       "2                                                   NaN             NaN   \n",
       "3                                Raisins can go to hell  White and gold   \n",
       "4                                                   NaN  White and gold   \n",
       "...                                                 ...             ...   \n",
       "2455                                                NaN  White and gold   \n",
       "2456                                                NaN  Blue and black   \n",
       "2457                                                NaN  Blue and black   \n",
       "2458                                                NaN             NaN   \n",
       "2459  You hit all my chocolate highlights, and broug...  White and gold   \n",
       "\n",
       "     Unnamed: 113 Q11: DAY Q12: MEDIA [Daily Dish] Q12: MEDIA [Science]  \\\n",
       "0             NaN      NaN                     NaN                  NaN   \n",
       "1             NaN   Sunday                     NaN                  1.0   \n",
       "2             NaN      NaN                     NaN                  NaN   \n",
       "3             NaN   Sunday                     NaN                  1.0   \n",
       "4             NaN   Friday                     NaN                  1.0   \n",
       "...           ...      ...                     ...                  ...   \n",
       "2455          NaN   Friday                     NaN                  NaN   \n",
       "2456          NaN   Friday                     NaN                  1.0   \n",
       "2457          NaN   Friday                     NaN                  1.0   \n",
       "2458          NaN      NaN                     NaN                  NaN   \n",
       "2459          NaN   Sunday                     1.0                  NaN   \n",
       "\n",
       "     Q12: MEDIA [ESPN] Q12: MEDIA [Yahoo] Click Coordinates (x, y)  \n",
       "0                  NaN                NaN                      NaN  \n",
       "1                  NaN                NaN                 (84, 25)  \n",
       "2                  NaN                NaN                      NaN  \n",
       "3                  NaN                NaN                 (75, 23)  \n",
       "4                  NaN                NaN                 (70, 10)  \n",
       "...                ...                ...                      ...  \n",
       "2455               NaN                NaN                      NaN  \n",
       "2456               NaN                NaN                 (70, 26)  \n",
       "2457               NaN                NaN                 (67, 35)  \n",
       "2458               NaN                NaN                      NaN  \n",
       "2459               NaN                NaN                 (19, 26)  \n",
       "\n",
       "[2460 rows x 120 columns]"
      ]
     },
     "execution_count": 7,
     "metadata": {},
     "output_type": "execute_result"
    }
   ],
   "source": [
    "#the data from the survey\n",
    "candy"
   ]
  },
  {
   "cell_type": "markdown",
   "id": "0862e2d1",
   "metadata": {},
   "source": [
    "# Data shape & info"
   ]
  },
  {
   "cell_type": "code",
   "execution_count": 8,
   "id": "a36d872f",
   "metadata": {},
   "outputs": [
    {
     "data": {
      "text/plain": [
       "(2460, 120)"
      ]
     },
     "execution_count": 8,
     "metadata": {},
     "output_type": "execute_result"
    }
   ],
   "source": [
    "#getting to know your data better   shape--->(rows, columns)\n",
    "\n",
    "candy.shape"
   ]
  },
  {
   "cell_type": "code",
   "execution_count": 9,
   "id": "6061e18f",
   "metadata": {},
   "outputs": [
    {
     "name": "stdout",
     "output_type": "stream",
     "text": [
      "<class 'pandas.core.frame.DataFrame'>\n",
      "RangeIndex: 2460 entries, 0 to 2459\n",
      "Columns: 120 entries, Internal ID to Click Coordinates (x, y)\n",
      "dtypes: float64(4), int64(1), object(115)\n",
      "memory usage: 2.3+ MB\n"
     ]
    }
   ],
   "source": [
    "candy.info()"
   ]
  },
  {
   "cell_type": "markdown",
   "id": "66f784a9",
   "metadata": {},
   "source": [
    "# Check Duplication & show data statistics  "
   ]
  },
  {
   "cell_type": "code",
   "execution_count": 10,
   "id": "82a0d889",
   "metadata": {},
   "outputs": [
    {
     "data": {
      "text/plain": [
       "0"
      ]
     },
     "execution_count": 10,
     "metadata": {},
     "output_type": "execute_result"
    }
   ],
   "source": [
    "candy.duplicated().sum()"
   ]
  },
  {
   "cell_type": "code",
   "execution_count": 11,
   "id": "56aafb77",
   "metadata": {},
   "outputs": [
    {
     "data": {
      "text/html": [
       "<div>\n",
       "<style scoped>\n",
       "    .dataframe tbody tr th:only-of-type {\n",
       "        vertical-align: middle;\n",
       "    }\n",
       "\n",
       "    .dataframe tbody tr th {\n",
       "        vertical-align: top;\n",
       "    }\n",
       "\n",
       "    .dataframe thead th {\n",
       "        text-align: right;\n",
       "    }\n",
       "</style>\n",
       "<table border=\"1\" class=\"dataframe\">\n",
       "  <thead>\n",
       "    <tr style=\"text-align: right;\">\n",
       "      <th></th>\n",
       "      <th>Internal ID</th>\n",
       "      <th>Q12: MEDIA [Daily Dish]</th>\n",
       "      <th>Q12: MEDIA [Science]</th>\n",
       "      <th>Q12: MEDIA [ESPN]</th>\n",
       "      <th>Q12: MEDIA [Yahoo]</th>\n",
       "    </tr>\n",
       "  </thead>\n",
       "  <tbody>\n",
       "    <tr>\n",
       "      <th>count</th>\n",
       "      <td>2.460000e+03</td>\n",
       "      <td>85.0</td>\n",
       "      <td>1362.0</td>\n",
       "      <td>99.0</td>\n",
       "      <td>67.0</td>\n",
       "    </tr>\n",
       "    <tr>\n",
       "      <th>mean</th>\n",
       "      <td>9.028016e+07</td>\n",
       "      <td>1.0</td>\n",
       "      <td>1.0</td>\n",
       "      <td>1.0</td>\n",
       "      <td>1.0</td>\n",
       "    </tr>\n",
       "    <tr>\n",
       "      <th>std</th>\n",
       "      <td>7.435532e+03</td>\n",
       "      <td>0.0</td>\n",
       "      <td>0.0</td>\n",
       "      <td>0.0</td>\n",
       "      <td>0.0</td>\n",
       "    </tr>\n",
       "    <tr>\n",
       "      <th>min</th>\n",
       "      <td>9.025877e+07</td>\n",
       "      <td>1.0</td>\n",
       "      <td>1.0</td>\n",
       "      <td>1.0</td>\n",
       "      <td>1.0</td>\n",
       "    </tr>\n",
       "    <tr>\n",
       "      <th>25%</th>\n",
       "      <td>9.027520e+07</td>\n",
       "      <td>1.0</td>\n",
       "      <td>1.0</td>\n",
       "      <td>1.0</td>\n",
       "      <td>1.0</td>\n",
       "    </tr>\n",
       "    <tr>\n",
       "      <th>50%</th>\n",
       "      <td>9.027780e+07</td>\n",
       "      <td>1.0</td>\n",
       "      <td>1.0</td>\n",
       "      <td>1.0</td>\n",
       "      <td>1.0</td>\n",
       "    </tr>\n",
       "    <tr>\n",
       "      <th>75%</th>\n",
       "      <td>9.028242e+07</td>\n",
       "      <td>1.0</td>\n",
       "      <td>1.0</td>\n",
       "      <td>1.0</td>\n",
       "      <td>1.0</td>\n",
       "    </tr>\n",
       "    <tr>\n",
       "      <th>max</th>\n",
       "      <td>9.031480e+07</td>\n",
       "      <td>1.0</td>\n",
       "      <td>1.0</td>\n",
       "      <td>1.0</td>\n",
       "      <td>1.0</td>\n",
       "    </tr>\n",
       "  </tbody>\n",
       "</table>\n",
       "</div>"
      ],
      "text/plain": [
       "        Internal ID  Q12: MEDIA [Daily Dish]  Q12: MEDIA [Science]  \\\n",
       "count  2.460000e+03                     85.0                1362.0   \n",
       "mean   9.028016e+07                      1.0                   1.0   \n",
       "std    7.435532e+03                      0.0                   0.0   \n",
       "min    9.025877e+07                      1.0                   1.0   \n",
       "25%    9.027520e+07                      1.0                   1.0   \n",
       "50%    9.027780e+07                      1.0                   1.0   \n",
       "75%    9.028242e+07                      1.0                   1.0   \n",
       "max    9.031480e+07                      1.0                   1.0   \n",
       "\n",
       "       Q12: MEDIA [ESPN]  Q12: MEDIA [Yahoo]  \n",
       "count               99.0                67.0  \n",
       "mean                 1.0                 1.0  \n",
       "std                  0.0                 0.0  \n",
       "min                  1.0                 1.0  \n",
       "25%                  1.0                 1.0  \n",
       "50%                  1.0                 1.0  \n",
       "75%                  1.0                 1.0  \n",
       "max                  1.0                 1.0  "
      ]
     },
     "execution_count": 11,
     "metadata": {},
     "output_type": "execute_result"
    }
   ],
   "source": [
    "candy.describe()"
   ]
  },
  {
   "cell_type": "markdown",
   "id": "ca97639e",
   "metadata": {},
   "source": [
    "# Check Nan Values "
   ]
  },
  {
   "cell_type": "code",
   "execution_count": 12,
   "id": "dc064315",
   "metadata": {},
   "outputs": [
    {
     "data": {
      "text/plain": [
       "Internal ID                    0\n",
       "Q1: GOING OUT?               110\n",
       "Q2: GENDER                    41\n",
       "Q3: AGE                       84\n",
       "Q4: COUNTRY                   64\n",
       "                            ... \n",
       "Q12: MEDIA [Daily Dish]     2375\n",
       "Q12: MEDIA [Science]        1098\n",
       "Q12: MEDIA [ESPN]           2361\n",
       "Q12: MEDIA [Yahoo]          2393\n",
       "Click Coordinates (x, y)     855\n",
       "Length: 120, dtype: int64"
      ]
     },
     "execution_count": 12,
     "metadata": {},
     "output_type": "execute_result"
    }
   ],
   "source": [
    "#NaN represents missing or undefined data\n",
    "\n",
    "candy.isna().sum()"
   ]
  },
  {
   "cell_type": "code",
   "execution_count": 13,
   "id": "d37a9b6e",
   "metadata": {},
   "outputs": [],
   "source": [
    "#here we drop the columns with a high NaN values for example we drop (Internal id) as the data alreday has an index\n",
    "#(Unnamed: 113) for having too much NaN values.\n",
    "#than we put a copy from the data into another data frame and start cleaning\n",
    "#“axis 0” represents rows and “axis 1” represents columns. \n",
    "\n",
    "df = candy.drop(['Internal ID','Unnamed: 113'],axis=1)"
   ]
  },
  {
   "cell_type": "markdown",
   "id": "4a1822d1",
   "metadata": {},
   "source": [
    "# Now we clean some coulmns from NaN values"
   ]
  },
  {
   "cell_type": "markdown",
   "id": "cf78c511",
   "metadata": {},
   "source": [
    "# GOING OUT? before cleaning"
   ]
  },
  {
   "cell_type": "code",
   "execution_count": 14,
   "id": "7836e3eb",
   "metadata": {},
   "outputs": [
    {
     "data": {
      "text/plain": [
       "0       NaN\n",
       "1        No\n",
       "2       NaN\n",
       "3        No\n",
       "4        No\n",
       "       ... \n",
       "2455     No\n",
       "2456     No\n",
       "2457     No\n",
       "2458     No\n",
       "2459     No\n",
       "Name: Q1: GOING OUT?, Length: 2460, dtype: object"
      ]
     },
     "execution_count": 14,
     "metadata": {},
     "output_type": "execute_result"
    }
   ],
   "source": [
    "# reprsent the column, we can see there is many NaN values\n",
    "df['Q1: GOING OUT?']"
   ]
  },
  {
   "cell_type": "code",
   "execution_count": 15,
   "id": "9d4f4862",
   "metadata": {},
   "outputs": [
    {
     "data": {
      "image/png": "[encoded data removed]",
      "text/plain": [
       "<Figure size 600x600 with 1 Axes>"
      ]
     },
     "metadata": {},
     "output_type": "display_data"
    }
   ],
   "source": [
    "#visualisation of the column before cleaning\n",
    "sns.countplot(x='Q1: GOING OUT?',data=df)\n",
    "plt.show()"
   ]
  },
  {
   "cell_type": "markdown",
   "id": "eccf3b02",
   "metadata": {},
   "source": [
    "# GOING OUT? after cleaning"
   ]
  },
  {
   "cell_type": "code",
   "execution_count": 16,
   "id": "50055f37",
   "metadata": {},
   "outputs": [],
   "source": [
    "#here we are going to replace the NaN values with somthin to represent it such as \"I don't know\"\n",
    "#The 'inplace=True' argument stands for the data frame has to make changes permanent\n",
    "\n",
    "df['Q1: GOING OUT?'].fillna(\"I don't Know\",inplace=True)"
   ]
  },
  {
   "cell_type": "code",
   "execution_count": 17,
   "id": "19bf2823",
   "metadata": {},
   "outputs": [
    {
     "data": {
      "image/png": "[encoded data removed]",
      "text/plain": [
       "<Figure size 600x600 with 1 Axes>"
      ]
     },
     "metadata": {},
     "output_type": "display_data"
    }
   ],
   "source": [
    "#visualisation of the column after cleaning\n",
    "\n",
    "sns.countplot(x='Q1: GOING OUT?',data=df)\n",
    "plt.show()"
   ]
  },
  {
   "cell_type": "markdown",
   "id": "2e93952c",
   "metadata": {},
   "source": [
    "# GENDER before cleaning\n",
    " same as the one before"
   ]
  },
  {
   "cell_type": "code",
   "execution_count": 18,
   "id": "2ee1474c",
   "metadata": {
    "scrolled": true
   },
   "outputs": [
    {
     "data": {
      "text/plain": [
       "0          NaN\n",
       "1         Male\n",
       "2         Male\n",
       "3         Male\n",
       "4         Male\n",
       "         ...  \n",
       "2455      Male\n",
       "2456    Female\n",
       "2457    Female\n",
       "2458      Male\n",
       "2459    Female\n",
       "Name: Q2: GENDER, Length: 2460, dtype: object"
      ]
     },
     "execution_count": 18,
     "metadata": {},
     "output_type": "execute_result"
    }
   ],
   "source": [
    "df['Q2: GENDER']"
   ]
  },
  {
   "cell_type": "code",
   "execution_count": 19,
   "id": "c7aa5449",
   "metadata": {},
   "outputs": [
    {
     "data": {
      "image/png": "[encoded data removed]",
      "text/plain": [
       "<Figure size 600x600 with 1 Axes>"
      ]
     },
     "metadata": {},
     "output_type": "display_data"
    }
   ],
   "source": [
    "sns.countplot(x='Q2: GENDER',data=df)\n",
    "plt.show()"
   ]
  },
  {
   "cell_type": "markdown",
   "id": "7fbc4eb3",
   "metadata": {},
   "source": [
    "# GENDER after cleaning"
   ]
  },
  {
   "cell_type": "code",
   "execution_count": 20,
   "id": "72b024d8",
   "metadata": {},
   "outputs": [],
   "source": [
    "df['Q2: GENDER'].fillna(\"Unknwon\",inplace=True)"
   ]
  },
  {
   "cell_type": "code",
   "execution_count": 21,
   "id": "7a13a7c0",
   "metadata": {},
   "outputs": [
    {
     "data": {
      "image/png": "[encoded data removed]",
      "text/plain": [
       "<Figure size 600x600 with 1 Axes>"
      ]
     },
     "metadata": {},
     "output_type": "display_data"
    }
   ],
   "source": [
    "sns.countplot(x='Q2: GENDER',data=df)\n",
    "plt.show()"
   ]
  },
  {
   "cell_type": "markdown",
   "id": "2ff6f208",
   "metadata": {},
   "source": [
    "# AGE before cleaning"
   ]
  },
  {
   "cell_type": "code",
   "execution_count": 22,
   "id": "4e8c1147",
   "metadata": {},
   "outputs": [
    {
     "data": {
      "text/plain": [
       "count     2376\n",
       "unique     106\n",
       "top         40\n",
       "freq        92\n",
       "Name: Q3: AGE, dtype: int64"
      ]
     },
     "execution_count": 22,
     "metadata": {},
     "output_type": "execute_result"
    }
   ],
   "source": [
    "#we have unique values here which could be string or any other value that doesn't represnt the age column\n",
    "df['Q3: AGE'].describe()"
   ]
  },
  {
   "cell_type": "code",
   "execution_count": 23,
   "id": "f26475ad",
   "metadata": {},
   "outputs": [],
   "source": [
    "#so we use here \"to_numeric\" to make the unique values ---> NaN values\n",
    "df['Q3: AGE'] = pd.to_numeric(df['Q3: AGE'], errors='coerce')"
   ]
  },
  {
   "cell_type": "code",
   "execution_count": 24,
   "id": "bd8eba62",
   "metadata": {},
   "outputs": [
    {
     "data": {
      "image/png": "[encoded data removed]",
      "text/plain": [
       "<Figure size 600x600 with 1 Axes>"
      ]
     },
     "metadata": {},
     "output_type": "display_data"
    }
   ],
   "source": [
    "#as you can see here we have outliers with age 1000 which is not real\n",
    "sns.boxplot(x='Q3: AGE',data=df)\n",
    "plt.show()"
   ]
  },
  {
   "cell_type": "markdown",
   "id": "71e6e437",
   "metadata": {},
   "source": [
    "# AGE after cleaning"
   ]
  },
  {
   "cell_type": "code",
   "execution_count": 25,
   "id": "a9820fd3",
   "metadata": {},
   "outputs": [],
   "source": [
    "#here we give a range of expected age which is from (0, 80) other than that it may be NaN value\n",
    "\n",
    "df['Q3: AGE'][df['Q3: AGE'] > 80] = np.nan\n",
    "df['Q3: AGE'][df['Q3: AGE'] < 0] = np.nan"
   ]
  },
  {
   "cell_type": "code",
   "execution_count": 26,
   "id": "dd5e42eb",
   "metadata": {},
   "outputs": [
    {
     "data": {
      "text/plain": [
       "42"
      ]
     },
     "execution_count": 26,
     "metadata": {},
     "output_type": "execute_result"
    }
   ],
   "source": [
    "#than we we get the mean of the ages we have and round it to get an integer wich in taht case will be \"42\"\n",
    "impute = int(np.round(df['Q3: AGE'].mean()))\n",
    "impute"
   ]
  },
  {
   "cell_type": "code",
   "execution_count": 27,
   "id": "2a7c3ffd",
   "metadata": {},
   "outputs": [],
   "source": [
    "#than replace every NaN value with the mean \"42\"\n",
    "df['Q3: AGE'].fillna(impute,inplace=True)"
   ]
  },
  {
   "cell_type": "code",
   "execution_count": 28,
   "id": "987f7171",
   "metadata": {},
   "outputs": [
    {
     "data": {
      "image/png": "[encoded data removed]",
      "text/plain": [
       "<Figure size 600x600 with 1 Axes>"
      ]
     },
     "metadata": {},
     "output_type": "display_data"
    }
   ],
   "source": [
    "#no more outliers with 1000 age which makes no sense.\n",
    "sns.boxplot(x='Q3: AGE',data=df)\n",
    "plt.show()"
   ]
  },
  {
   "cell_type": "markdown",
   "id": "5e6582d1",
   "metadata": {},
   "source": [
    "# DAY before cleaning"
   ]
  },
  {
   "cell_type": "code",
   "execution_count": 29,
   "id": "f9fb9f2b",
   "metadata": {},
   "outputs": [
    {
     "data": {
      "text/plain": [
       "0          NaN\n",
       "1       Sunday\n",
       "2          NaN\n",
       "3       Sunday\n",
       "4       Friday\n",
       "         ...  \n",
       "2455    Friday\n",
       "2456    Friday\n",
       "2457    Friday\n",
       "2458       NaN\n",
       "2459    Sunday\n",
       "Name: Q11: DAY, Length: 2460, dtype: object"
      ]
     },
     "execution_count": 29,
     "metadata": {},
     "output_type": "execute_result"
    }
   ],
   "source": [
    "df['Q11: DAY']"
   ]
  },
  {
   "cell_type": "code",
   "execution_count": 30,
   "id": "575e07bc",
   "metadata": {},
   "outputs": [
    {
     "data": {
      "image/png": "[encoded data removed]",
      "text/plain": [
       "<Figure size 600x600 with 1 Axes>"
      ]
     },
     "metadata": {},
     "output_type": "display_data"
    }
   ],
   "source": [
    "sns.countplot(x='Q11: DAY',data=df)\n",
    "plt.show()"
   ]
  },
  {
   "cell_type": "markdown",
   "id": "7f38deb4",
   "metadata": {},
   "source": [
    "# DAY after cleaning"
   ]
  },
  {
   "cell_type": "code",
   "execution_count": 31,
   "id": "ea4e1651",
   "metadata": {},
   "outputs": [
    {
     "data": {
      "text/plain": [
       "0    Friday\n",
       "Name: Q11: DAY, dtype: object"
      ]
     },
     "execution_count": 31,
     "metadata": {},
     "output_type": "execute_result"
    }
   ],
   "source": [
    "#here we use the mode as we the days are finite amount of data that will be repeated\n",
    "#the mode here is \"Friday\"\n",
    "df['Q11: DAY'].mode()"
   ]
  },
  {
   "cell_type": "code",
   "execution_count": 32,
   "id": "9c5a32a6",
   "metadata": {},
   "outputs": [],
   "source": [
    "#replace NaN values with the mean\n",
    "df['Q11: DAY'].fillna(\"Friday\",inplace = True)"
   ]
  },
  {
   "cell_type": "code",
   "execution_count": 33,
   "id": "c145b570",
   "metadata": {
    "scrolled": false
   },
   "outputs": [
    {
     "data": {
      "image/png": "[encoded data removed]",
      "text/plain": [
       "<Figure size 600x600 with 1 Axes>"
      ]
     },
     "metadata": {},
     "output_type": "display_data"
    }
   ],
   "source": [
    "#no more NaN values\n",
    "sns.countplot(x='Q11: DAY',data=df)\n",
    "plt.show()"
   ]
  },
  {
   "cell_type": "markdown",
   "id": "0bac6e32",
   "metadata": {},
   "source": [
    "# COUNTRY before cleaning"
   ]
  },
  {
   "cell_type": "code",
   "execution_count": 34,
   "id": "d1b32fb4",
   "metadata": {},
   "outputs": [
    {
     "data": {
      "text/plain": [
       "0        NaN\n",
       "1       USA \n",
       "2        USA\n",
       "3         us\n",
       "4        usa\n",
       "        ... \n",
       "2455     USA\n",
       "2456     USA\n",
       "2457    USA \n",
       "2458     Usa\n",
       "2459     usa\n",
       "Name: Q4: COUNTRY, Length: 2460, dtype: object"
      ]
     },
     "execution_count": 34,
     "metadata": {},
     "output_type": "execute_result"
    }
   ],
   "source": [
    "df['Q4: COUNTRY']"
   ]
  },
  {
   "cell_type": "markdown",
   "id": "304f648c",
   "metadata": {},
   "source": [
    "# COUNTRY after cleaning"
   ]
  },
  {
   "cell_type": "code",
   "execution_count": 35,
   "id": "1441212b",
   "metadata": {},
   "outputs": [
    {
     "data": {
      "text/plain": [
       "array([nan, 'USA ', 'USA', 'us', 'usa', 'canada', 'Canada', 'Us', 'US',\n",
       "       'Murica', 'United States', 'uk', 'United Kingdom', 'united states',\n",
       "       'Usa', 'United States ', 'United staes',\n",
       "       'United States of America', 'UAE', 'England', 'UK', 'canada ',\n",
       "       'Mexico', 'United states', 'u.s.a.', 'USAUSAUSA', 'america', 35,\n",
       "       'france', 'United States of America ', 'U.S.A.', 'finland',\n",
       "       'unhinged states', 'Canada ', 'united states of america',\n",
       "       'US of A', 'Unites States', 'The United States', 'North Carolina ',\n",
       "       'Unied States', 'Netherlands', 'germany', 'Europe', 'Earth', 'U S',\n",
       "       'u.s.', 'U.K. ', 'Costa Rica', 'The United States of America',\n",
       "       'unite states', 'U.S.', 46, 'cascadia', 'Australia',\n",
       "       'insanity lately', 'Greece', 'USA? Hard to tell anymore..',\n",
       "       \"'merica\", 'usas', 'Pittsburgh', 45, 'United State', 32, 'France',\n",
       "       'australia', 'A', 'Can', 'Canae', 'New York', 'Trumpistan',\n",
       "       'Ireland', 'United Sates', 'Korea', 'California', 'Japan', 'USa',\n",
       "       'South africa',\n",
       "       'I pretend to be from Canada, but I am really from the United States.',\n",
       "       'Usa ', 'Uk', 'Iceland', 'Germany', 'Canada`', 'Scotland', 'UK ',\n",
       "       'Denmark', 'United Stated', 'France ', 'Switzerland',\n",
       "       'Ahem....Amerca', 'UD', 'Scotland ', 'South Korea', 'New Jersey',\n",
       "       'CANADA', 'Indonesia', 'United ststes', 'America',\n",
       "       'The Netherlands', 'United Statss', 'endland', 'Atlantis',\n",
       "       'murrika', 'USA! USA! USA!', 'USAA', 'Alaska', 'united States ',\n",
       "       'soviet canuckistan', 'N. America', 'Singapore', 'USSA', 'China',\n",
       "       'Taiwan', 'Ireland ', 'hong kong', 'spain', 'Sweden', 'Hong Kong',\n",
       "       'U.S. ', 'Narnia', 'u s a', 'United Statea', 'united ststes', 1,\n",
       "       'subscribe to dm4uz3 on youtube', 'United kingdom',\n",
       "       'USA USA USA!!!!', \"I don't know anymore\", 'Fear and Loathing'],\n",
       "      dtype=object)"
      ]
     },
     "execution_count": 35,
     "metadata": {},
     "output_type": "execute_result"
    }
   ],
   "source": [
    "#get unique values\n",
    "df['Q4: COUNTRY'].unique()"
   ]
  },
  {
   "cell_type": "code",
   "execution_count": 36,
   "id": "0a1a0a6b",
   "metadata": {},
   "outputs": [
    {
     "data": {
      "text/plain": [
       "array([nan, 'usa', 'canada', 'murica', 'united states', 'uk',\n",
       "       'united kingdom', 'uae', 'England', 'mexico', 'u.s.a.', 'america',\n",
       "       'france', 'finland', 'us of a', 'north carolina', 'netherlands',\n",
       "       'germany', 'europe', 'earth', 'u.k.', 'costa rica', 'cascadia',\n",
       "       'australia', 'insanity lately', 'greece',\n",
       "       'usa? hard to tell anymore..', 'pittsburgh', 'can', 'canae',\n",
       "       'new york', 'trumpistan', 'ireland', 'korea', 'california',\n",
       "       'japan', 'south africa', 'iceland', 'canada`', 'scotland',\n",
       "       'denmark', 'switzerland', 'ud', 'south korea', 'new jersey',\n",
       "       'indonesia', 'the netherlands', 'atlantis', 'murrika', 'alaska',\n",
       "       'soviet canuckistan', 'singapore', 'china', 'taiwan', 'hong kong',\n",
       "       'spain', 'sweden', 'narnia', 'u s a',\n",
       "       'subscribe to dm4uz3 on youtube', \"i don't know anymore\",\n",
       "       'fear and loathing'], dtype=object)"
      ]
     },
     "execution_count": 36,
     "metadata": {},
     "output_type": "execute_result"
    }
   ],
   "source": [
    "#fuzzy wuzzy, give this one a search kinda hard to explane in a comment :) \n",
    "\n",
    "df['Q4: COUNTRY'] = df['Q4: COUNTRY'].str.strip().str. lower()\n",
    "\n",
    "countries = pd.Series(['usa', 'united states','america','china','spain','Egypt','England'])\n",
    "\n",
    "for country in countries:\n",
    "    matches = process.extract(country, df['Q4: COUNTRY'], limit = df.shape[0])\n",
    "    for potential_match in matches:\n",
    "        if potential_match[1]>=80:\n",
    "            df.loc[df['Q4: COUNTRY'] == potential_match[0],'Q4: COUNTRY'] = country\n",
    "\n",
    "df['Q4: COUNTRY'].unique()"
   ]
  },
  {
   "cell_type": "code",
   "execution_count": 37,
   "id": "e517cfe5",
   "metadata": {},
   "outputs": [
    {
     "data": {
      "text/plain": [
       "array([nan, 'usa', 'canada', 'murica', 'uk', 'united kingdom', 'uae',\n",
       "       'England', 'mexico', 'u.s.a.', 'france', 'finland', 'us of a',\n",
       "       'north carolina', 'netherlands', 'germany', 'europe', 'earth',\n",
       "       'u.k.', 'costa rica', 'cascadia', 'australia', 'insanity lately',\n",
       "       'greece', 'usa? hard to tell anymore..', 'pittsburgh', 'can',\n",
       "       'canae', 'new york', 'trumpistan', 'ireland', 'korea',\n",
       "       'california', 'japan', 'south africa', 'iceland', 'canada`',\n",
       "       'scotland', 'denmark', 'switzerland', 'ud', 'south korea',\n",
       "       'new jersey', 'indonesia', 'the netherlands', 'atlantis',\n",
       "       'murrika', 'alaska', 'soviet canuckistan', 'singapore', 'china',\n",
       "       'taiwan', 'hong kong', 'spain', 'sweden', 'narnia', 'u s a',\n",
       "       'subscribe to dm4uz3 on youtube', \"i don't know anymore\",\n",
       "       'fear and loathing'], dtype=object)"
      ]
     },
     "execution_count": 37,
     "metadata": {},
     "output_type": "execute_result"
    }
   ],
   "source": [
    "mapping = {'united states':'usa','america':'usa'}\n",
    "df['Q4: COUNTRY'].replace(mapping, inplace=True)\n",
    "df['Q4: COUNTRY'].unique()"
   ]
  },
  {
   "cell_type": "code",
   "execution_count": 38,
   "id": "0c92b67d",
   "metadata": {},
   "outputs": [
    {
     "data": {
      "text/plain": [
       "69"
      ]
     },
     "execution_count": 38,
     "metadata": {},
     "output_type": "execute_result"
    }
   ],
   "source": [
    "df['Q4: COUNTRY'].isna().sum()"
   ]
  },
  {
   "cell_type": "code",
   "execution_count": 39,
   "id": "bca1130f",
   "metadata": {},
   "outputs": [],
   "source": [
    "df['Q4: COUNTRY'].fillna(\"Unknwon\",inplace=True)"
   ]
  },
  {
   "cell_type": "markdown",
   "id": "afc87e38",
   "metadata": {},
   "source": [
    "# DRESS before cleaning\n",
    " same as first two columns"
   ]
  },
  {
   "cell_type": "code",
   "execution_count": 40,
   "id": "0124f51c",
   "metadata": {},
   "outputs": [
    {
     "data": {
      "text/plain": [
       "0                  NaN\n",
       "1       White and gold\n",
       "2                  NaN\n",
       "3       White and gold\n",
       "4       White and gold\n",
       "             ...      \n",
       "2455    White and gold\n",
       "2456    Blue and black\n",
       "2457    Blue and black\n",
       "2458               NaN\n",
       "2459    White and gold\n",
       "Name: Q10: DRESS, Length: 2460, dtype: object"
      ]
     },
     "execution_count": 40,
     "metadata": {},
     "output_type": "execute_result"
    }
   ],
   "source": [
    "df['Q10: DRESS']"
   ]
  },
  {
   "cell_type": "code",
   "execution_count": 41,
   "id": "e5d1d2aa",
   "metadata": {},
   "outputs": [
    {
     "data": {
      "image/png": "[encoded data removed]",
      "text/plain": [
       "<Figure size 600x600 with 1 Axes>"
      ]
     },
     "metadata": {},
     "output_type": "display_data"
    }
   ],
   "source": [
    "sns.countplot(x='Q10: DRESS',data=df)\n",
    "plt.show()"
   ]
  },
  {
   "cell_type": "markdown",
   "id": "6603d25f",
   "metadata": {},
   "source": [
    "# DRESS after cleaning"
   ]
  },
  {
   "cell_type": "code",
   "execution_count": 42,
   "id": "999bac6f",
   "metadata": {},
   "outputs": [],
   "source": [
    "df['Q10: DRESS'].fillna(\"Unknwon\",inplace=True)"
   ]
  },
  {
   "cell_type": "code",
   "execution_count": 43,
   "id": "ac207249",
   "metadata": {},
   "outputs": [
    {
     "data": {
      "image/png": "[encoded data removed]",
      "text/plain": [
       "<Figure size 600x600 with 1 Axes>"
      ]
     },
     "metadata": {},
     "output_type": "display_data"
    }
   ],
   "source": [
    "sns.countplot(x='Q10: DRESS',data=df)\n",
    "plt.show()"
   ]
  },
  {
   "cell_type": "markdown",
   "id": "8569bcb1",
   "metadata": {},
   "source": [
    "# Q6 before cleaning\n",
    " Here we gonna use the mode as Days cloumn"
   ]
  },
  {
   "cell_type": "code",
   "execution_count": 44,
   "id": "fc66a9bf",
   "metadata": {
    "scrolled": false
   },
   "outputs": [
    {
     "data": {
      "text/plain": [
       "0           NaN\n",
       "1           MEH\n",
       "2           NaN\n",
       "3           MEH\n",
       "4           JOY\n",
       "         ...   \n",
       "2455        JOY\n",
       "2456        MEH\n",
       "2457        MEH\n",
       "2458        NaN\n",
       "2459    DESPAIR\n",
       "Name: Q6 | 100 Grand Bar, Length: 2460, dtype: object"
      ]
     },
     "execution_count": 44,
     "metadata": {},
     "output_type": "execute_result"
    }
   ],
   "source": [
    "df['Q6 | 100 Grand Bar']"
   ]
  },
  {
   "cell_type": "code",
   "execution_count": 45,
   "id": "537412b5",
   "metadata": {},
   "outputs": [
    {
     "data": {
      "image/png": "[encoded data removed]",
      "text/plain": [
       "<Figure size 600x600 with 1 Axes>"
      ]
     },
     "metadata": {},
     "output_type": "display_data"
    }
   ],
   "source": [
    "sns.countplot(x='Q6 | 100 Grand Bar',data=df)\n",
    "plt.show()"
   ]
  },
  {
   "cell_type": "code",
   "execution_count": 46,
   "id": "7d4b1d8b",
   "metadata": {
    "scrolled": true
   },
   "outputs": [
    {
     "data": {
      "text/plain": [
       "0           NaN\n",
       "1       DESPAIR\n",
       "2           NaN\n",
       "3       DESPAIR\n",
       "4       DESPAIR\n",
       "         ...   \n",
       "2455    DESPAIR\n",
       "2456    DESPAIR\n",
       "2457    DESPAIR\n",
       "2458        NaN\n",
       "2459    DESPAIR\n",
       "Name: Q6 | Anonymous brown globs that come in black and orange wrappers\\t(a.k.a. Mary Janes), Length: 2460, dtype: object"
      ]
     },
     "execution_count": 46,
     "metadata": {},
     "output_type": "execute_result"
    }
   ],
   "source": [
    "df['Q6 | Anonymous brown globs that come in black and orange wrappers\\t(a.k.a. Mary Janes)']"
   ]
  },
  {
   "cell_type": "code",
   "execution_count": 47,
   "id": "13df0636",
   "metadata": {},
   "outputs": [
    {
     "data": {
      "image/png": "[encoded data removed]",
      "text/plain": [
       "<Figure size 600x600 with 1 Axes>"
      ]
     },
     "metadata": {},
     "output_type": "display_data"
    }
   ],
   "source": [
    "sns.countplot(x='Q6 | Anonymous brown globs that come in black and orange wrappers\\t(a.k.a. Mary Janes)',data=df)\n",
    "plt.show()"
   ]
  },
  {
   "cell_type": "code",
   "execution_count": 48,
   "id": "56a6ae89",
   "metadata": {
    "scrolled": true
   },
   "outputs": [
    {
     "data": {
      "text/plain": [
       "0       NaN\n",
       "1       JOY\n",
       "2       NaN\n",
       "3       JOY\n",
       "4       JOY\n",
       "       ... \n",
       "2455    MEH\n",
       "2456    JOY\n",
       "2457    JOY\n",
       "2458    NaN\n",
       "2459    JOY\n",
       "Name: Q6 | Any full-sized candy bar, Length: 2460, dtype: object"
      ]
     },
     "execution_count": 48,
     "metadata": {},
     "output_type": "execute_result"
    }
   ],
   "source": [
    "df['Q6 | Any full-sized candy bar']"
   ]
  },
  {
   "cell_type": "code",
   "execution_count": 49,
   "id": "cb62fa3c",
   "metadata": {
    "scrolled": true
   },
   "outputs": [
    {
     "data": {
      "image/png": "[encoded data removed]",
      "text/plain": [
       "<Figure size 600x600 with 1 Axes>"
      ]
     },
     "metadata": {},
     "output_type": "display_data"
    }
   ],
   "source": [
    "sns.countplot(x='Q6 | Any full-sized candy bar',data=df)\n",
    "plt.show()"
   ]
  },
  {
   "cell_type": "code",
   "execution_count": 50,
   "id": "a8014353",
   "metadata": {
    "scrolled": true
   },
   "outputs": [
    {
     "data": {
      "text/plain": [
       "0           NaN\n",
       "1           MEH\n",
       "2           NaN\n",
       "3           MEH\n",
       "4       DESPAIR\n",
       "         ...   \n",
       "2455    DESPAIR\n",
       "2456        NaN\n",
       "2457    DESPAIR\n",
       "2458        NaN\n",
       "2459    DESPAIR\n",
       "Name: Q6 | Black Jacks, Length: 2460, dtype: object"
      ]
     },
     "execution_count": 50,
     "metadata": {},
     "output_type": "execute_result"
    }
   ],
   "source": [
    "df['Q6 | Black Jacks']"
   ]
  },
  {
   "cell_type": "code",
   "execution_count": 51,
   "id": "38d509e6",
   "metadata": {},
   "outputs": [
    {
     "data": {
      "image/png": "[encoded data removed]",
      "text/plain": [
       "<Figure size 600x600 with 1 Axes>"
      ]
     },
     "metadata": {},
     "output_type": "display_data"
    }
   ],
   "source": [
    "sns.countplot(x='Q6 | Black Jacks',data=df)\n",
    "plt.show()"
   ]
  },
  {
   "cell_type": "markdown",
   "id": "e7255f18",
   "metadata": {},
   "source": [
    "# Q6 after cleaning"
   ]
  },
  {
   "cell_type": "code",
   "execution_count": 52,
   "id": "3897f372",
   "metadata": {
    "scrolled": true
   },
   "outputs": [
    {
     "data": {
      "text/plain": [
       "0    JOY\n",
       "Name: Q6 | 100 Grand Bar, dtype: object"
      ]
     },
     "execution_count": 52,
     "metadata": {},
     "output_type": "execute_result"
    }
   ],
   "source": [
    "df['Q6 | 100 Grand Bar'].mode()"
   ]
  },
  {
   "cell_type": "code",
   "execution_count": 53,
   "id": "7023d415",
   "metadata": {},
   "outputs": [],
   "source": [
    "df['Q6 | 100 Grand Bar'].fillna(\"JOY\",inplace = True)"
   ]
  },
  {
   "cell_type": "code",
   "execution_count": 54,
   "id": "6918fffc",
   "metadata": {},
   "outputs": [
    {
     "data": {
      "image/png": "[encoded data removed]",
      "text/plain": [
       "<Figure size 600x600 with 1 Axes>"
      ]
     },
     "metadata": {},
     "output_type": "display_data"
    }
   ],
   "source": [
    "sns.countplot(x='Q6 | 100 Grand Bar',data=df)\n",
    "plt.show()"
   ]
  },
  {
   "cell_type": "code",
   "execution_count": 55,
   "id": "a14f9c75",
   "metadata": {},
   "outputs": [
    {
     "data": {
      "text/plain": [
       "0    DESPAIR\n",
       "Name: Q6 | Anonymous brown globs that come in black and orange wrappers\\t(a.k.a. Mary Janes), dtype: object"
      ]
     },
     "execution_count": 55,
     "metadata": {},
     "output_type": "execute_result"
    }
   ],
   "source": [
    " df['Q6 | Anonymous brown globs that come in black and orange wrappers\\t(a.k.a. Mary Janes)'].mode()"
   ]
  },
  {
   "cell_type": "code",
   "execution_count": 56,
   "id": "9c3bd83d",
   "metadata": {},
   "outputs": [],
   "source": [
    "df['Q6 | Anonymous brown globs that come in black and orange wrappers\\t(a.k.a. Mary Janes)'].fillna(\"DESPAIR\",inplace = True)"
   ]
  },
  {
   "cell_type": "code",
   "execution_count": 57,
   "id": "8a16fbf9",
   "metadata": {},
   "outputs": [
    {
     "data": {
      "image/png": "[encoded data removed]",
      "text/plain": [
       "<Figure size 600x600 with 1 Axes>"
      ]
     },
     "metadata": {},
     "output_type": "display_data"
    }
   ],
   "source": [
    "sns.countplot(x='Q6 | Anonymous brown globs that come in black and orange wrappers\\t(a.k.a. Mary Janes)',data=df)\n",
    "plt.show()"
   ]
  },
  {
   "cell_type": "code",
   "execution_count": 58,
   "id": "e8fab257",
   "metadata": {},
   "outputs": [
    {
     "data": {
      "text/plain": [
       "0    JOY\n",
       "Name: Q6 | Any full-sized candy bar, dtype: object"
      ]
     },
     "execution_count": 58,
     "metadata": {},
     "output_type": "execute_result"
    }
   ],
   "source": [
    " df['Q6 | Any full-sized candy bar'].mode()"
   ]
  },
  {
   "cell_type": "code",
   "execution_count": 59,
   "id": "4151dab0",
   "metadata": {},
   "outputs": [],
   "source": [
    "df['Q6 | Any full-sized candy bar'].fillna(\"JOY\",inplace = True)"
   ]
  },
  {
   "cell_type": "code",
   "execution_count": 60,
   "id": "b52d2597",
   "metadata": {},
   "outputs": [
    {
     "data": {
      "image/png": "[encoded data removed]",
      "text/plain": [
       "<Figure size 600x600 with 1 Axes>"
      ]
     },
     "metadata": {},
     "output_type": "display_data"
    }
   ],
   "source": [
    "sns.countplot(x='Q6 | Any full-sized candy bar',data=df)\n",
    "plt.show()"
   ]
  },
  {
   "cell_type": "code",
   "execution_count": 61,
   "id": "a2f76553",
   "metadata": {},
   "outputs": [
    {
     "data": {
      "text/plain": [
       "0    DESPAIR\n",
       "Name: Q6 | Black Jacks, dtype: object"
      ]
     },
     "execution_count": 61,
     "metadata": {},
     "output_type": "execute_result"
    }
   ],
   "source": [
    "df['Q6 | Black Jacks'].mode()"
   ]
  },
  {
   "cell_type": "code",
   "execution_count": 62,
   "id": "1e73d65c",
   "metadata": {},
   "outputs": [],
   "source": [
    "df['Q6 | Black Jacks'].fillna(\"DESPAIR\",inplace = True)"
   ]
  },
  {
   "cell_type": "code",
   "execution_count": 63,
   "id": "767e36f2",
   "metadata": {},
   "outputs": [
    {
     "data": {
      "image/png": "[encoded data removed]",
      "text/plain": [
       "<Figure size 600x600 with 1 Axes>"
      ]
     },
     "metadata": {},
     "output_type": "display_data"
    }
   ],
   "source": [
    "sns.countplot(x='Q6 | Black Jacks',data=df)\n",
    "plt.show()"
   ]
  },
  {
   "cell_type": "code",
   "execution_count": 64,
   "id": "d2dadeb7",
   "metadata": {},
   "outputs": [
    {
     "data": {
      "text/plain": [
       "Q1: GOING OUT?                         0\n",
       "Q2: GENDER                             0\n",
       "Q3: AGE                                0\n",
       "Q4: COUNTRY                            0\n",
       "Q5: STATE, PROVINCE, COUNTY, ETC     100\n",
       "                                    ... \n",
       "Q12: MEDIA [Daily Dish]             2375\n",
       "Q12: MEDIA [Science]                1098\n",
       "Q12: MEDIA [ESPN]                   2361\n",
       "Q12: MEDIA [Yahoo]                  2393\n",
       "Click Coordinates (x, y)             855\n",
       "Length: 118, dtype: int64"
      ]
     },
     "execution_count": 64,
     "metadata": {},
     "output_type": "execute_result"
    }
   ],
   "source": [
    "#as you can see we got rid of the most NaN values wihch will make the data more sutable and utilized for other use.\n",
    "df.isna().sum()"
   ]
  },
  {
   "cell_type": "markdown",
   "id": "3bc52769",
   "metadata": {},
   "source": [
    "# Thanks!!\n",
    " if you reach the end thanks for reading, hope this notbook helped you :)"
   ]
  }
 ],
 "metadata": {
  "kernelspec": {
   "display_name": "Python 3 (ipykernel)",
   "language": "python",
   "name": "python3"
  },
  "language_info": {
   "codemirror_mode": {
    "name": "ipython",
    "version": 3
   },
   "file_extension": ".py",
   "mimetype": "text/x-python",
   "name": "python",
   "nbconvert_exporter": "python",
   "pygments_lexer": "ipython3",
   "version": "3.11.5"
  }
 },
 "nbformat": 4,
 "nbformat_minor": 5
}
